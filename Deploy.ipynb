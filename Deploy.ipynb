{
 "cells": [
  {
   "cell_type": "code",
   "execution_count": null,
   "metadata": {},
   "outputs": [],
   "source": [
    "#!jupyter nbextension enable --py widgetsnbextension --sys-prefix\n",
    "#!jupyter serverextension enable voila --sys-prefix"
   ]
  },
  {
   "cell_type": "code",
   "execution_count": 33,
   "metadata": {},
   "outputs": [],
   "source": [
    "import torch\n",
    "from transformers import GPT2LMHeadModel, GPT2Tokenizer\n",
    "\n",
    "from googletrans import Translator\n",
    "\n",
    "import ipywidgets as widgets\n",
    "from IPython.display import display, clear_output"
   ]
  },
  {
   "cell_type": "code",
   "execution_count": 34,
   "metadata": {},
   "outputs": [],
   "source": [
    "model = GPT2LMHeadModel.from_pretrained('saved_model_fico/')\n",
    "tokenizer = GPT2Tokenizer.from_pretrained('saved_model_fico/')\n",
    "translator = Translator()\n"
   ]
  },
  {
   "cell_type": "code",
   "execution_count": 35,
   "metadata": {},
   "outputs": [],
   "source": [
    "def generate(entered_prompt):\n",
    "\n",
    "  model.eval()\n",
    "  device = torch.device(\"cuda:0\" if torch.cuda.is_available() else \"cpu\")\n",
    "  if entered_prompt.strip() == '':\n",
    "    prompt = \"<|startoftext|>\"\n",
    "  else:\n",
    "    prompt = translator.translate(entered_prompt, src=\"sk\").text\n",
    "\n",
    "  generated = torch.tensor(tokenizer.encode(prompt)).unsqueeze(0)\n",
    "  generated = generated.to(device)\n",
    "\n",
    "  # print(generated)\n",
    "\n",
    "  sample_output = model.generate(\n",
    "                                  generated, \n",
    "                                  #bos_token_id=random.randint(1,30000),\n",
    "                                  do_sample=True,   \n",
    "                                  top_k=50, \n",
    "                                  max_length = 300,\n",
    "                                  top_p=0.9, \n",
    "                                  num_return_sequences=1,\n",
    "                                  pad_token_id=tokenizer.eos_token_id\n",
    "                                  )\n",
    "\n",
    "  return str(translator.translate(tokenizer.decode(sample_output[0], skip_special_tokens=True), dest=\"sk\").text)"
   ]
  },
  {
   "cell_type": "code",
   "execution_count": 36,
   "metadata": {},
   "outputs": [],
   "source": [
    "prompt = widgets.Text(placeholder='Náhodná téma',layout=widgets.Layout(width='200px', height='50px'))\n",
    "text_0 = widgets.HTML(value=\"<h3>Zadaj tému na ktorú ti Robot Fico™ napíše status, ak nezadáš nič, téma bude náhodná.</h3>\")\n",
    "\n",
    "\n",
    "button_send = widgets.Button(\n",
    "                description='Napíš status!',\n",
    "                tooltip='Klikni na mňa',\n",
    "                style={'description_width': 'initial'},\n",
    "                layout=widgets.Layout(width='200px', height='50px')\n",
    "            )\n",
    "\n",
    "output = widgets.Output()\n",
    "\n",
    "def on_button_clicked(event):\n",
    "    with output:\n",
    "        clear_output()\n",
    "        response = generate(prompt.value)\n",
    "        display(widgets.Image(value=open(\"StatusAI_fico.jpg\", \"rb\").read(),format='jpg',width='500'))\n",
    "        display(widgets.HTML(value=response))\n",
    "        \n",
    "\n",
    "button_send.on_click(on_button_clicked)\n",
    "\n",
    "vbox = widgets.VBox([text_0, prompt, button_send, output])"
   ]
  },
  {
   "cell_type": "code",
   "execution_count": 37,
   "metadata": {},
   "outputs": [],
   "source": [
    "# prompt = widgets.Text(placeholder='Náhodná téma',layout=widgets.Layout(width='200px', height='50px'))\n",
    "# text_0 = widgets.HTML(value=\"<h3>Zadaj tému na ktorú ti AIrik Kaliňák™ napíše status, ak nezadáš nič, téma bude náhodná.</h3>\")\n",
    "\n",
    "\n",
    "# button_send = widgets.Button(\n",
    "#                 description='Napíš status!',\n",
    "#                 tooltip='Klikni na mňa',\n",
    "#                 style={'description_width': 'initial'},\n",
    "#                 layout=widgets.Layout(width='200px', height='50px')\n",
    "#             )\n",
    "\n",
    "# output = widgets.Output()\n",
    "\n",
    "# def on_button_clicked(event):\n",
    "#     with output:\n",
    "#         clear_output()\n",
    "#         response = generate(prompt.value)\n",
    "#         display(widgets.Image(value=open(\"StatusAI_erik.jpg\", \"rb\").read(),format='jpg',width='500'))\n",
    "#         display(widgets.HTML(value=response))\n",
    "        \n",
    "\n",
    "# button_send.on_click(on_button_clicked)\n",
    "\n",
    "# vbox = widgets.VBox([text_0, prompt, button_send, output])"
   ]
  },
  {
   "cell_type": "code",
   "execution_count": 38,
   "metadata": {},
   "outputs": [
    {
     "data": {
      "application/vnd.jupyter.widget-view+json": {
       "model_id": "fc06a63fa2d94bc6a94f38dd9a46ef7c",
       "version_major": 2,
       "version_minor": 0
      },
      "text/plain": [
       "HBox(children=(VBox(children=(HTML(value='<h3>Zadaj tému na ktorú ti Robot Fico™ napíše status, ak nezadáš nič…"
      ]
     },
     "metadata": {},
     "output_type": "display_data"
    }
   ],
   "source": [
    "page = widgets.HBox([vbox])\n",
    "display(page)"
   ]
  }
 ],
 "metadata": {
  "interpreter": {
   "hash": "48ffd4691838f853a088ec0ac05c5cdbb2a4d7afe7f7c420906d1a1731974c95"
  },
  "kernelspec": {
   "display_name": "Python 3.7.0 ('fourk')",
   "language": "python",
   "name": "python3"
  },
  "language_info": {
   "codemirror_mode": {
    "name": "ipython",
    "version": 3
   },
   "file_extension": ".py",
   "mimetype": "text/x-python",
   "name": "python",
   "nbconvert_exporter": "python",
   "pygments_lexer": "ipython3",
   "version": "3.10.4"
  },
  "orig_nbformat": 4
 },
 "nbformat": 4,
 "nbformat_minor": 2
}
